{
 "cells": [
  {
   "cell_type": "code",
   "execution_count": null,
   "metadata": {},
   "outputs": [],
   "source": [
    "#| default_exp competition"
   ]
  },
  {
   "cell_type": "markdown",
   "metadata": {},
   "source": [
    "# fastkaggle.competition\n",
    "\n",
    "> API details for fastkaggle competition setup"
   ]
  },
  {
   "cell_type": "code",
   "execution_count": null,
   "metadata": {},
   "outputs": [],
   "source": [
    "#|hide\n",
    "from nbdev.showdoc import *"
   ]
  },
  {
   "cell_type": "code",
   "execution_count": null,
   "metadata": {},
   "outputs": [],
   "source": [
    "#|export\n",
    "import os,json,subprocess, shutil\n",
    "import re\n",
    "from fastcore.utils import *\n",
    "from fastkaggle.core import *\n",
    "# from fastcore.all import *"
   ]
  },
  {
   "cell_type": "code",
   "execution_count": null,
   "metadata": {},
   "outputs": [],
   "source": [
    "#|export\n",
    "def get_comp_data(competition, install=''):\n",
    "    \"Get a path to data for `competition`, downloading it if needed\"\n",
    "    if iskaggle:\n",
    "        if install:\n",
    "            os.system(f'pip install -Uqq {install}')\n",
    "        return Path('../input')/competition\n",
    "    else:\n",
    "        path = Path(competition)\n",
    "        api = import_kaggle()\n",
    "        if not path.exists():\n",
    "            import zipfile\n",
    "            api.competition_download_cli(str(competition))\n",
    "            zipfile.ZipFile(f'{competition}.zip').extractall(str(competition))\n",
    "        return path"
   ]
  },
  {
   "cell_type": "code",
   "execution_count": null,
   "metadata": {},
   "outputs": [
    {
     "data": {
      "text/plain": [
       "Path('titanic')"
      ]
     },
     "execution_count": null,
     "metadata": {},
     "output_type": "execute_result"
    }
   ],
   "source": [
    "get_comp_data('titanic')"
   ]
  },
  {
   "cell_type": "code",
   "execution_count": null,
   "metadata": {},
   "outputs": [],
   "source": [
    "#| export\n",
    "def competition_config(\n",
    "    competition, # ie titanic\n",
    "    data_path=None,\n",
    "    dataset_username=None, #ie isaacflath\n",
    "    model_dataset_name=None, #ie 'models-pawpularity'\n",
    "    libraries_dataset_name=None, #ie 'libraries-pawpularity'\n",
    "    required_libraries=None, #ie ['fastkaggle','fastai']\n",
    "    pip_cmd = 'pip'\n",
    "):\n",
    "    config = {'competition':competition,\n",
    "              'pip_cmd':pip_cmd,\n",
    "             'data_path':data_path}\n",
    "              \n",
    "    if dataset_username is None:\n",
    "        print('Inferring dataset_username from credentials')\n",
    "        config['datasets_username'] = get_username()\n",
    "        \n",
    "    if model_dataset_name is None:\n",
    "        print('Inferring model_dataset_name from competition')\n",
    "        config['model_dataset_name'] = f\"models-{competition}\"\n",
    "        \n",
    "    if libraries_dataset_name is None:\n",
    "        print('Inferring libraries_dataset_name from competition')\n",
    "        config['libraries_dataset_name'] = f\"libraries-{competition}\"\n",
    "        \n",
    "    if required_libraries is None: \n",
    "        print(\"Setting required libraries to ['fastkaggle']\")\n",
    "        config['required_libraries'] = required_libraries = ['fastkaggle']\n",
    "    return config"
   ]
  },
  {
   "cell_type": "code",
   "execution_count": null,
   "metadata": {},
   "outputs": [
    {
     "name": "stdout",
     "output_type": "stream",
     "text": [
      "Inferring dataset_username from credentials\n",
      "Inferring model_dataset_name from competition\n",
      "Inferring libraries_dataset_name from competition\n",
      "Setting required libraries to ['fastkaggle']\n"
     ]
    },
    {
     "data": {
      "text/plain": [
       "{'competition': 'titanic',\n",
       " 'pip_cmd': 'pip',\n",
       " 'data_path': None,\n",
       " 'datasets_username': 'isaacflath',\n",
       " 'model_dataset_name': 'models-titanic',\n",
       " 'libraries_dataset_name': 'libraries-titanic',\n",
       " 'required_libraries': ['fastkaggle']}"
      ]
     },
     "execution_count": null,
     "metadata": {},
     "output_type": "execute_result"
    }
   ],
   "source": [
    "competition_config('titanic')"
   ]
  },
  {
   "cell_type": "code",
   "execution_count": null,
   "metadata": {},
   "outputs": [],
   "source": [
    "#| export\n",
    "def setup_comp(competition, install='',dataset_username=None,model_dataset_name=None,libraries_dataset_name=None, required_libraries=None,pip_cmd='pip'):\n",
    "    path = get_comp_data(competition,install)\n",
    "    cfg = competition_config(competition,str(path.parent),dataset_username,model_dataset_name,libraries_dataset_name, required_libraries,pip_cmd)\n",
    "    json.dump(cfg,open('fastkaggle.json','w'))"
   ]
  },
  {
   "cell_type": "code",
   "execution_count": null,
   "metadata": {},
   "outputs": [
    {
     "name": "stdout",
     "output_type": "stream",
     "text": [
      "Inferring dataset_username from credentials\n",
      "Inferring model_dataset_name from competition\n",
      "Inferring libraries_dataset_name from competition\n",
      "Setting required libraries to ['fastkaggle']\n"
     ]
    }
   ],
   "source": [
    "setup_comp('titanic')\n",
    "assert Path('fastkaggle.json').exists()"
   ]
  },
  {
   "cell_type": "code",
   "execution_count": null,
   "metadata": {},
   "outputs": [],
   "source": [
    "#| export\n",
    "def get_config_values(path='.'): return json.load(open(Path(path)/'fastkaggle.json','r'))"
   ]
  },
  {
   "cell_type": "code",
   "execution_count": null,
   "metadata": {},
   "outputs": [
    {
     "data": {
      "text/plain": [
       "{'competition': 'titanic',\n",
       " 'pip_cmd': 'pip',\n",
       " 'data_path': '.',\n",
       " 'datasets_username': 'isaacflath',\n",
       " 'model_dataset_name': 'models-titanic',\n",
       " 'libraries_dataset_name': 'libraries-titanic',\n",
       " 'required_libraries': ['fastkaggle']}"
      ]
     },
     "execution_count": null,
     "metadata": {},
     "output_type": "execute_result"
    }
   ],
   "source": [
    "get_config_values() "
   ]
  },
  {
   "cell_type": "markdown",
   "metadata": {},
   "source": [
    "## Export -"
   ]
  },
  {
   "cell_type": "code",
   "execution_count": null,
   "metadata": {},
   "outputs": [],
   "source": [
    "#|hide\n",
    "#|eval: false\n",
    "from nbdev.doclinks import nbdev_export\n",
    "nbdev_export()"
   ]
  },
  {
   "cell_type": "code",
   "execution_count": null,
   "metadata": {},
   "outputs": [
    {
     "data": {
      "text/plain": [
       "Path('.')"
      ]
     },
     "execution_count": null,
     "metadata": {},
     "output_type": "execute_result"
    }
   ],
   "source": []
  },
  {
   "cell_type": "code",
   "execution_count": null,
   "metadata": {},
   "outputs": [],
   "source": []
  }
 ],
 "metadata": {
  "kernelspec": {
   "display_name": "Python 3 (ipykernel)",
   "language": "python",
   "name": "python3"
  }
 },
 "nbformat": 4,
 "nbformat_minor": 4
}
