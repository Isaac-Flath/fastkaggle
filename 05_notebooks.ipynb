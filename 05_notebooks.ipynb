{
 "cells": [
  {
   "cell_type": "code",
   "execution_count": null,
   "metadata": {},
   "outputs": [],
   "source": [
    "#| default_exp notebooks"
   ]
  },
  {
   "cell_type": "markdown",
   "metadata": {},
   "source": [
    "# fastkaggle.notebooks\n",
    "\n",
    "> API details for fastkaggle notebooks to help manage notebooks/kernels"
   ]
  },
  {
   "cell_type": "code",
   "execution_count": null,
   "metadata": {},
   "outputs": [],
   "source": [
    "#|hide\n",
    "from nbdev.showdoc import *"
   ]
  },
  {
   "cell_type": "code",
   "execution_count": null,
   "metadata": {},
   "outputs": [],
   "source": [
    "#|export\n",
    "import os,json,subprocess, shutil\n",
    "import re,ast\n",
    "import string\n",
    "\n",
    "from fastcore.utils import *\n",
    "from fastkaggle.core import *\n",
    "from fastkaggle.competition import *\n",
    "from nbdev.processors import nb_fmdict\n",
    "from nbdev.read import read_nb\n",
    "# from fastcore.all import *"
   ]
  },
  {
   "cell_type": "code",
   "execution_count": null,
   "metadata": {},
   "outputs": [],
   "source": [
    "#|export\n",
    "def nb2names(file):\n",
    "    nb = read_nb(file)\n",
    "    title = ast.literal_eval(nb_fmdict(nb)['title'])\n",
    "    bad_chars = '|'.join(string.punctuation+string.whitespace)\n",
    "    translator = title.maketrans(bad_chars,'-'*len(bad_chars))\n",
    "    id = title.translate(translator)\n",
    "    return title, id.lower()"
   ]
  },
  {
   "cell_type": "code",
   "execution_count": null,
   "metadata": {},
   "outputs": [
    {
     "data": {
      "text/plain": [
       "('fastkaggle.notebooks', 'fastkaggle-notebooks')"
      ]
     },
     "execution_count": null,
     "metadata": {},
     "output_type": "execute_result"
    }
   ],
   "source": [
    "nb2names('05_notebooks.ipynb')"
   ]
  },
  {
   "cell_type": "markdown",
   "metadata": {},
   "source": [
    "If you pass a list of space separated modules to `install`, they'll be installed if running on Kaggle."
   ]
  },
  {
   "cell_type": "code",
   "execution_count": null,
   "metadata": {},
   "outputs": [],
   "source": [
    "#|export\n",
    "def nb_meta(file, cfg_path='.',private=False, gpu=False, internet=True):\n",
    "    \"Get the `dict` required for a kernel-metadata.json file\"    \n",
    "    cfg = get_config_values(cfg_path)\n",
    "    competition = cfg['competition']\n",
    "    cfg_datasets = [f\"{cfg['datasets_username']}/{cfg['model_dataset_name']}\",\n",
    "                    f\"{cfg['datasets_username']}/{cfg['libraries_dataset_name']}\"]\n",
    "    title,id = nb2names(file)    \n",
    "\n",
    "    d = {\n",
    "      \"id\": f\"{get_username()}/{id}\",\n",
    "      \"title\": title,\n",
    "      \"code_file\": file,\n",
    "      \"language\": \"python\",\n",
    "      \"kernel_type\": \"notebook\",\n",
    "      \"is_private\": private,\n",
    "      \"enable_gpu\": gpu,\n",
    "      \"enable_internet\": internet,\n",
    "      \"keywords\": [],\n",
    "      \"dataset_sources\": cfg_datasets if cfg_datasets else [],\n",
    "      \"kernel_sources\": []\n",
    "    }\n",
    "    if competition: d[\"competition_sources\"] = [f\"competitions/{competition}\"]\n",
    "    return d"
   ]
  },
  {
   "cell_type": "code",
   "execution_count": null,
   "metadata": {},
   "outputs": [],
   "source": [
    "meta_new = nb_meta('index.ipynb')"
   ]
  },
  {
   "cell_type": "code",
   "execution_count": null,
   "metadata": {},
   "outputs": [],
   "source": [
    "#|export\n",
    "def push_notebook(file, cfg_path='.', private=False, gpu=True, internet=True):\n",
    "    \"Push notebook `file` to Kaggle Notebooks\"\n",
    "    meta = nb_meta(file=file, cfg_path=cfg_path, private=private, gpu=gpu, internet=internet)\n",
    "    path = Path(file).parent\n",
    "    nm = 'kernel-metadata.json'\n",
    "    path.mkdir(exist_ok=True, parents=True)\n",
    "    with open(path/nm, 'w') as f: json.dump(meta, f, indent=2)    \n",
    "    api = import_kaggle()\n",
    "    api.kernels_push_cli(str(path))"
   ]
  },
  {
   "cell_type": "code",
   "execution_count": null,
   "metadata": {},
   "outputs": [
    {
     "name": "stdout",
     "output_type": "stream",
     "text": [
      "Kernel version 15 successfully pushed.  Please check progress at https://www.kaggle.com/code/isaacflath/fastkaggle\n"
     ]
    }
   ],
   "source": [
    "push_notebook('index.ipynb')"
   ]
  },
  {
   "cell_type": "markdown",
   "metadata": {},
   "source": [
    "## Export -"
   ]
  },
  {
   "cell_type": "code",
   "execution_count": null,
   "metadata": {},
   "outputs": [],
   "source": [
    "#|hide\n",
    "#|eval: false\n",
    "from nbdev.doclinks import nbdev_export\n",
    "nbdev_export()"
   ]
  },
  {
   "cell_type": "code",
   "execution_count": null,
   "metadata": {},
   "outputs": [],
   "source": []
  }
 ],
 "metadata": {
  "kernelspec": {
   "display_name": "Python 3 (ipykernel)",
   "language": "python",
   "name": "python3"
  }
 },
 "nbformat": 4,
 "nbformat_minor": 4
}
