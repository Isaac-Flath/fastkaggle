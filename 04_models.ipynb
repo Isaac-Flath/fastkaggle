{
 "cells": [
  {
   "cell_type": "code",
   "execution_count": null,
   "metadata": {},
   "outputs": [],
   "source": [
    "#| default_exp models"
   ]
  },
  {
   "cell_type": "markdown",
   "metadata": {},
   "source": [
    "# fastkaggle.models\n",
    "\n",
    "> API details for fastkaggle models to help manage model weights as kaggle datasets"
   ]
  },
  {
   "cell_type": "code",
   "execution_count": null,
   "metadata": {},
   "outputs": [],
   "source": [
    "#|hide\n",
    "from nbdev.showdoc import *"
   ]
  },
  {
   "cell_type": "code",
   "execution_count": null,
   "metadata": {},
   "outputs": [],
   "source": [
    "#|export\n",
    "import os,json,subprocess, shutil\n",
    "import re\n",
    "from fastcore.utils import *\n",
    "from fastkaggle.core import *\n",
    "from fastkaggle.datasets import *\n",
    "from fastkaggle.competition import *\n",
    "# from fastcore.all import *"
   ]
  },
  {
   "cell_type": "code",
   "execution_count": null,
   "metadata": {},
   "outputs": [],
   "source": []
  },
  {
   "cell_type": "code",
   "execution_count": null,
   "metadata": {},
   "outputs": [],
   "source": [
    "#| export\n",
    "def push_fastai_learner(learner, # Fastai Learner\n",
    "                        model_fname, # ie `model1.pkl`\n",
    "                        version_comment, # dataset versioning\n",
    "                        cfg_path='.'\n",
    "                ):\n",
    "    '''Exports a learner and updates kaggle dataset'''\n",
    "    cfg = get_config_values(cfg_path)\n",
    "    \n",
    "    local_path = Path(cfg_path)/cfg['data_path']/cfg['model_dataset_name']\n",
    "    ds_slug = f\"{cfg['datasets_username']}/{cfg['model_dataset_name']}\"\n",
    "    \n",
    "    print(f\"-----Downloading or Creating Dataset if needed\")\n",
    "    if local_path.exists(): pass\n",
    "    elif ds_exists(ds_slug): get_dataset(ds_slug,str(local_path))\n",
    "    else:                    mk_dataset(local_path,cfg['model_dataset_name'])\n",
    "    \n",
    "    print(local_path)\n",
    "    orig_path = learner.path\n",
    "    learner.path = local_path.parent\n",
    "    learner.export(model_fname)\n",
    "    learner.path = orig_path\n",
    "    push_dataset(local_path,version_comment)"
   ]
  },
  {
   "cell_type": "code",
   "execution_count": null,
   "metadata": {},
   "outputs": [
    {
     "name": "stdout",
     "output_type": "stream",
     "text": [
      "-----Downloading or Creating Dataset if needed\n",
      "models-titanic\n"
     ]
    }
   ],
   "source": [
    "from fastai.vision.all import *\n",
    "import pandas as pd\n",
    "\n",
    "path = untar_data(URLs.MNIST_SAMPLE)\n",
    "df = pd.read_csv(path/'labels.csv')\n",
    "dls = ImageDataLoaders.from_df(df,path)\n",
    "learn = vision_learner(dls, models.resnet18, loss_func=CrossEntropyLossFlat(), ps=0.25)\n",
    "push_fastai_learner(learn,'model1.pkl','testing fastkaggle')\n",
    "\n",
    "path = Path('models-titanic')\n",
    "assert path.exists()\n",
    "assert ds_exists('isaacflath/models-titanic')\n",
    "Path(path).ls().map(lambda x: x.unlink())\n",
    "Path(path).rmdir()"
   ]
  },
  {
   "cell_type": "markdown",
   "metadata": {},
   "source": [
    "## Export -"
   ]
  },
  {
   "cell_type": "code",
   "execution_count": null,
   "metadata": {},
   "outputs": [],
   "source": [
    "#|hide\n",
    "#|eval: false\n",
    "from nbdev.doclinks import nbdev_export\n",
    "nbdev_export()"
   ]
  },
  {
   "cell_type": "code",
   "execution_count": null,
   "metadata": {},
   "outputs": [],
   "source": []
  }
 ],
 "metadata": {
  "kernelspec": {
   "display_name": "Python 3 (ipykernel)",
   "language": "python",
   "name": "python3"
  }
 },
 "nbformat": 4,
 "nbformat_minor": 4
}
